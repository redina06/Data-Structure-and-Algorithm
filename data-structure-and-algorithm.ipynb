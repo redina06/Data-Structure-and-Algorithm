{
 "cells": [
  {
   "cell_type": "markdown",
   "id": "126cef25",
   "metadata": {},
   "source": [
    "Homework 2 - Sorting Student Records\n",
    "\n",
    "Name: Rediet Goshu\n",
    "\n",
    "ID: DBU1601573\n",
    "\n",
    "Department: Data Science\n",
    "\n",
    "GitHub: https://github.com/redina06/Data-Algorithm-and-Structure\n",
    "\n",
    "Email: redietgoshu06@gmail.com\n"
   ]
  },
  {
   "cell_type": "markdown",
   "id": "52513ec4",
   "metadata": {},
   "source": [
    "Student Data - Dictionary of 10 students\n"
   ]
  },
  {
   "cell_type": "code",
   "execution_count": 7,
   "id": "7b527cee",
   "metadata": {},
   "outputs": [],
   "source": [
    "students = [\n",
    "    {'id': 'DBU1501003', 'name': 'Dawit',   'dept': 'DS', 'cgpa': 3.34},\n",
    "    {'id': 'DBU1501001', 'name': 'Abrham',  'dept': 'CS', 'cgpa': 3.12},\n",
    "    {'id': 'DBU1501009', 'name': 'Soliana', 'dept': 'DS', 'cgpa': 2.74},\n",
    "    {'id': 'DBU1501007', 'name': 'Rahel',   'dept': 'CS', 'cgpa': 3.10},\n",
    "    {'id': 'DBU1501006', 'name': 'Mikiyas', 'dept': 'DS', 'cgpa': 3.45},\n",
    "    {'id': 'DBU1501004', 'name': 'Kalkidan','dept': 'IT', 'cgpa': 3.88},\n",
    "    {'id': 'DBU1501005', 'name': 'Samuel',  'dept': 'CS', 'cgpa': 2.97},\n",
    "    {'id': 'DBU1501008', 'name': 'Bethel',  'dept': 'SE', 'cgpa': 3.21},\n",
    "    {'id': 'DBU1501010', 'name': 'Nahom',   'dept': 'CS', 'cgpa': 2.50},\n",
    "    {'id': 'DBU1501002', 'name': 'Hana',    'dept': 'SE', 'cgpa': 3.75}\n",
    "]"
   ]
  },
  {
   "cell_type": "code",
   "execution_count": 2,
   "id": "1ef21930",
   "metadata": {},
   "outputs": [],
   "source": [
    "# Bubble Sort by ID\n",
    "def bubble_sort_by_id(students_list):\n",
    "    n = len(students_list)\n",
    "    for i in range(n):\n",
    "        for j in range(0, n-i-1):\n",
    "            if students_list[j]['id'] > students_list[j+1]['id']:\n",
    "                students_list[j], students_list[j+1] = students_list[j+1], students_list[j]\n",
    "    return students_list\n"
   ]
  },
  {
   "cell_type": "markdown",
   "id": "9b329a87",
   "metadata": {},
   "source": [
    "Bubble Sort successfully organized the student IDs from smallest to largest. It works fine here because there are only 10 records, but it's inefficient for bigger lists.\n",
    "\n"
   ]
  },
  {
   "cell_type": "code",
   "execution_count": 3,
   "id": "a91b458d",
   "metadata": {},
   "outputs": [],
   "source": [
    "# Insertion Sort by Name\n",
    "def insertion_sort_by_name(students_list):\n",
    "    for i in range(1, len(students_list)):\n",
    "        key = students_list[i]\n",
    "        j = i - 1\n",
    "        while j >= 0 and students_list[j]['name'] > key['name']:\n",
    "            students_list[j + 1] = students_list[j]\n",
    "            j -= 1\n",
    "        students_list[j + 1] = key\n",
    "    return students_list\n"
   ]
  },
  {
   "cell_type": "markdown",
   "id": "8fdcf2a7",
   "metadata": {},
   "source": [
    "Insertion Sort worked well for sorting names in alphabetical order. It’s a good fit for small data and easy to implement manually."
   ]
  },
  {
   "cell_type": "code",
   "execution_count": 4,
   "id": "e93aa2f9",
   "metadata": {},
   "outputs": [],
   "source": [
    "# Selection Sort by CGPA (Descending)\n",
    "def selection_sort_by_cgpa(students_list):\n",
    "    n = len(students_list)\n",
    "    for i in range(n):\n",
    "        max_idx = i\n",
    "        for j in range(i+1, n):\n",
    "            if students_list[j]['cgpa'] > students_list[max_idx]['cgpa']:\n",
    "                max_idx = j\n",
    "        students_list[i], students_list[max_idx] = students_list[max_idx], students_list[i]\n",
    "    return students_list\n"
   ]
  },
  {
   "cell_type": "markdown",
   "id": "9d2e9236",
   "metadata": {},
   "source": [
    "Selection Sort correctly ranked the students by CGPA. It’s a straightforward method, but it doesn't adapt to partially sorted data."
   ]
  },
  {
   "cell_type": "code",
   "execution_count": 5,
   "id": "bcf8bf28",
   "metadata": {},
   "outputs": [],
   "source": [
    "# --- Selection Sort by CGPA (Descending) ---\n",
    "def selection_sort_by_cgpa(data):\n",
    "    n = len(data)\n",
    "    for i in range(n):\n",
    "        max_idx = i\n",
    "        for j in range(i + 1, n):\n",
    "            if data[j]['cgpa'] > data[max_idx]['cgpa']:\n",
    "                max_idx = j\n",
    "        data[i], data[max_idx] = data[max_idx], data[i]\n",
    "    return data"
   ]
  },
  {
   "cell_type": "code",
   "execution_count": 9,
   "id": "008d4f63",
   "metadata": {},
   "outputs": [
    {
     "name": "stdout",
     "output_type": "stream",
     "text": [
      "\n",
      "Sorted by ID (Bubble Sort):\n",
      "{'id': 'DBU1501001', 'name': 'Abrham', 'dept': 'CS', 'cgpa': 3.12}\n",
      "{'id': 'DBU1501002', 'name': 'Hana', 'dept': 'SE', 'cgpa': 3.75}\n",
      "{'id': 'DBU1501003', 'name': 'Dawit', 'dept': 'DS', 'cgpa': 3.34}\n",
      "{'id': 'DBU1501004', 'name': 'Kalkidan', 'dept': 'IT', 'cgpa': 3.88}\n",
      "{'id': 'DBU1501005', 'name': 'Samuel', 'dept': 'CS', 'cgpa': 2.97}\n",
      "{'id': 'DBU1501006', 'name': 'Mikiyas', 'dept': 'DS', 'cgpa': 3.45}\n",
      "{'id': 'DBU1501007', 'name': 'Rahel', 'dept': 'CS', 'cgpa': 3.1}\n",
      "{'id': 'DBU1501008', 'name': 'Bethel', 'dept': 'SE', 'cgpa': 3.21}\n",
      "{'id': 'DBU1501009', 'name': 'Soliana', 'dept': 'DS', 'cgpa': 2.74}\n",
      "{'id': 'DBU1501010', 'name': 'Nahom', 'dept': 'CS', 'cgpa': 2.5}\n",
      "\n",
      "Sorted by Name (Insertion Sort):\n",
      "{'id': 'DBU1501001', 'name': 'Abrham', 'dept': 'CS', 'cgpa': 3.12}\n",
      "{'id': 'DBU1501008', 'name': 'Bethel', 'dept': 'SE', 'cgpa': 3.21}\n",
      "{'id': 'DBU1501003', 'name': 'Dawit', 'dept': 'DS', 'cgpa': 3.34}\n",
      "{'id': 'DBU1501002', 'name': 'Hana', 'dept': 'SE', 'cgpa': 3.75}\n",
      "{'id': 'DBU1501004', 'name': 'Kalkidan', 'dept': 'IT', 'cgpa': 3.88}\n",
      "{'id': 'DBU1501006', 'name': 'Mikiyas', 'dept': 'DS', 'cgpa': 3.45}\n",
      "{'id': 'DBU1501010', 'name': 'Nahom', 'dept': 'CS', 'cgpa': 2.5}\n",
      "{'id': 'DBU1501007', 'name': 'Rahel', 'dept': 'CS', 'cgpa': 3.1}\n",
      "{'id': 'DBU1501005', 'name': 'Samuel', 'dept': 'CS', 'cgpa': 2.97}\n",
      "{'id': 'DBU1501009', 'name': 'Soliana', 'dept': 'DS', 'cgpa': 2.74}\n",
      "\n",
      "Sorted by CGPA Descending (Selection Sort):\n",
      "{'id': 'DBU1501004', 'name': 'Kalkidan', 'dept': 'IT', 'cgpa': 3.88}\n",
      "{'id': 'DBU1501002', 'name': 'Hana', 'dept': 'SE', 'cgpa': 3.75}\n",
      "{'id': 'DBU1501006', 'name': 'Mikiyas', 'dept': 'DS', 'cgpa': 3.45}\n",
      "{'id': 'DBU1501003', 'name': 'Dawit', 'dept': 'DS', 'cgpa': 3.34}\n",
      "{'id': 'DBU1501008', 'name': 'Bethel', 'dept': 'SE', 'cgpa': 3.21}\n",
      "{'id': 'DBU1501001', 'name': 'Abrham', 'dept': 'CS', 'cgpa': 3.12}\n",
      "{'id': 'DBU1501007', 'name': 'Rahel', 'dept': 'CS', 'cgpa': 3.1}\n",
      "{'id': 'DBU1501005', 'name': 'Samuel', 'dept': 'CS', 'cgpa': 2.97}\n",
      "{'id': 'DBU1501009', 'name': 'Soliana', 'dept': 'DS', 'cgpa': 2.74}\n",
      "{'id': 'DBU1501010', 'name': 'Nahom', 'dept': 'CS', 'cgpa': 2.5}\n"
     ]
    }
   ],
   "source": [
    "# --- Display Sorted Results ---\n",
    "print(\"\\nSorted by ID (Bubble Sort):\")\n",
    "for s in bubble_sort_by_id(students.copy()):\n",
    "    print(s)\n",
    "\n",
    "print(\"\\nSorted by Name (Insertion Sort):\")\n",
    "for s in insertion_sort_by_name(students.copy()):\n",
    "    print(s)\n",
    "\n",
    "print(\"\\nSorted by CGPA Descending (Selection Sort):\")\n",
    "for s in selection_sort_by_cgpa(students.copy()):\n",
    "    print(s)\n"
   ]
  },
  {
   "cell_type": "markdown",
   "id": "b0d325d5",
   "metadata": {},
   "source": [
    "Analysis and Comparison of Sorting Algorithms"
   ]
  },
  {
   "cell_type": "markdown",
   "id": "21b831b1",
   "metadata": {},
   "source": [
    "Bubble Sort (by ID)\n",
    "Time Complexity:\n",
    "\n",
    "Worst Case: O(n²)\n",
    "\n",
    "Best Case: O(n) (if already sorted)\n",
    "\n",
    "Performance: Bubble Sort repeatedly swaps adjacent elements, which makes it slow for large lists.\n",
    "\n",
    "Advantage:\n",
    "\n",
    "Simple and easy to implement.\n",
    "\n",
    "Good for small data sets or educational purposes.\n",
    "\n",
    "Disadvantage:\n",
    "\n",
    "Very inefficient on large lists due to repeated comparisons and swaps.\n",
    "\n",
    "Not suitable for real-time applications.\n",
    "\n"
   ]
  },
  {
   "cell_type": "markdown",
   "id": "334f4792",
   "metadata": {},
   "source": [
    " Insertion Sort (by Name)\n",
    "Time Complexity:\n",
    "\n",
    "Worst Case: O(n²)\n",
    "\n",
    "Best Case: O(n) (if the list is nearly sorted)\n",
    "\n",
    "Performance: It builds the sorted list one item at a time, placing each item in its correct position.\n",
    "\n",
    "Advantage:\n",
    "\n",
    "Efficient for small or nearly sorted lists.\n",
    "\n",
    "Stable sort (preserves order of equal elements).\n",
    "\n",
    "Disadvantage:\n",
    "\n",
    "Still inefficient for large or completely unsorted lists.\n",
    "\n",
    "More comparisons than necessary in some cases.\n",
    "\n"
   ]
  },
  {
   "cell_type": "markdown",
   "id": "22944c2e",
   "metadata": {},
   "source": [
    "Selection Sort (by CGPA - Descending)\n",
    "Time Complexity:\n",
    "\n",
    "Worst and Best Case: O(n²)\n",
    "\n",
    "Performance: Selects the maximum (or minimum) in each pass and puts it in the correct position.\n",
    "\n",
    "Advantage:\n",
    "\n",
    "Simple to understand and implement.\n",
    "\n",
    "Doesn’t require additional memory (in-place).\n",
    "\n",
    "Disadvantage:\n",
    "\n",
    "Always performs the same number of comparisons, regardless of list order.\n",
    "\n",
    "Not adaptive to the structure of input data."
   ]
  },
  {
   "cell_type": "markdown",
   "id": "28e2533d",
   "metadata": {},
   "source": [
    "     Thank You\n"
    "     "
   ]
  },
  {
   "cell_type": "markdown",
   "id": "a75ecff7",
   "metadata": {},
   "source": [
    "Conclusion \n",
    "\n",
    "Since the dataset is small, all three algorithms worked efficiently.\n",
    "But if the list were much larger, these basic algorithms would be slow.\n",
    "For real-world use, Python’s built-in sorted() would be the best choice.\n",
    "\n"
   ]
  }
 ],
 "metadata": {
  "kernelspec": {
   "display_name": "Python 3",
   "language": "python",
   "name": "python3"
  },
  "language_info": {
   "codemirror_mode": {
    "name": "ipython",
    "version": 3
   },
   "file_extension": ".py",
   "mimetype": "text/x-python",
   "name": "python",
   "nbconvert_exporter": "python",
   "pygments_lexer": "ipython3",
   "version": "3.11.0"

  }
 },
 "nbformat": 4,
 "nbformat_minor": 5
}
